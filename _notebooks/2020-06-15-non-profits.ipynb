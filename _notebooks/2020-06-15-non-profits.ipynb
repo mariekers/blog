{
 "cells": [
  {
   "cell_type": "markdown",
   "metadata": {},
   "source": [
    "# Non-Profits & Tech\n",
    "> \"Leveling the playing field\"\n",
    "\n",
    "- toc: true\n",
    "- branch: master\n",
    "- categories: [data, non-profits, civic tech, unnecessary visualizations]\n",
    "- image: images/posts/datajawn/bees.jpg\n",
    "- badges: false\n",
    "- hide: true"
   ]
  },
  {
   "cell_type": "code",
   "execution_count": 2,
   "metadata": {},
   "outputs": [],
   "source": [
    "#hide\n",
    "import pandas as pd\n",
    "import numpy as np\n",
    "import altair as alt\n",
    "from siuba import _, group_by, summarize, arrange"
   ]
  },
  {
   "cell_type": "markdown",
   "metadata": {},
   "source": [
    "In the tech world, the folks programming and building the actual product generally don't think about costs (outside of developer time). For companies who make money from the product the technologists are building, it's really a matter of revenue.  A thriving charity's first success is being able to afford basic operations.  A non-proft has \"made it\" when they can say \"what else can we pay for\". For non-profits and government agencies, there's not a lot of passive (legal) revenue to the organization, so we're gonna cover that choose-your-own-adventure style.\n",
    "\n",
    "## Making money the hard way \n",
    "### A primer for folks who haven't hustled to avoid revenue\n",
    "\n",
    "Let's start with the assumption that all non-profits need some amount of funding. The most common methods for getting these funds are:\n",
    "1. Donations \n",
    "2. Grants\n",
    "3. Service Provider\n",
    "\n",
    "#### Donations\n",
    "For the sake of not letting myself ramble, we're going to focus on financial donations. Many non-profits exist on the model of donations of goods (like Goodwill), selling those goods, and then generating operating costs from those goods. It's a financial model.  It exists. The end.\n",
    "\n",
    "Non-profit organizations normally accept financial donations, but simply relying on someone to wake up and think \"you know what, I'm going to send a check to United Way today\" is probably not going to result in a reliable stream of income, if any income at all.  If a non-profit wants a reliable amount of funds from donations, they need a fundraising campaign.  Fundraising campaigns are not free - if Susan G. Komen spends $200,000 buying fancy pink shoes for football players and raises $ 800,000 (in an imaginary land in which you can directly attribute all financial donations to a single campaign), they're actually raising $600,000.  They spent 25 cents for every dollar raised.  In order to include this money in an annual budget, the non-profit needs to hold regular fundraising campaigns.  This is why most non-profits will employ a Fundraising Coordinator or Marketing Specialist.  If they plan on relying on donations as a revenue stream, they need to efficiently and consistently fundraise. \n",
    "\n",
    "#### Grants\n",
    "Grants are a sum of money given to an organization for a specific purpose.  Grants come in two basic flavors: a sweet but tangy public grant or an earthy, umami private grant.  In my experience, private grants are a little less stringent with their requirements but here's a basic breakdown of how to receive and use grant funding.\n",
    "\n",
    "**Step 1: Funding Opportunity Announcement (FOA)**\n",
    "Grant agency puts out an FOA (it's the government, did you think there wasn't an acronym?) that specifies what the grant is for, how much you could receive, who is eligible, timeline, and how to apply.  Federal FOA's are almost humorously specific, like this \"[Small Grants Program for Leading English Discussion Groups in Sapporo, Japan](https://www.grants.gov/web/grants/search-grants.html)\" \n",
    "\n",
    "**Step 2: Application and Award**\n",
    "Agency seeking funding writes up their grant application (which usually is about the size of a graduate thesis) including a need statement, program narrative, proposed budget (or a budget narrative), discussion of impact, blood type, head shots, and $20 worth of pennies from 1960. Some of those are a joke but grant applicants have to be really careful what they include in their applications, using specific language, as the submissions are filtered through an [automated](https://www.nsf.gov/pubs/policydocs/pappg18_1/pappg_2.jsp#IIC2) check initally. \n",
    "\n",
    "**Step 3: Administration**\n",
    "Remember that grant budget you put in your application?  Now you have to stick to it. The grant will specify how much money is allotted for each component: personnel, services, materials, etc.  Grant awardees are required to not only stick to these budgets, but also report weekly to the funding agency. \n",
    "\n",
    "For multi-year grants, awardees are oftentimes required to re-apply (with the understanding that they will still receive the grant).  Funding agencies may adjust the amount of funds given to awardees at this time.\n",
    "\n",
    "#### Direct Services\n",
    "Some non-profits receive funding for their programs through direct services given to members.  For example, a non-profit that offers Medication Assisted Treatment may submit insurance claims for participants who have received services through the non-profit.  Most insurance companies will have set money amounts for each procedure reported on each claim.\n"
   ]
  },
  {
   "cell_type": "markdown",
   "metadata": {},
   "source": [
    "## Getting from A to B\n",
    "### The Tech Boost"
   ]
  },
  {
   "cell_type": "markdown",
   "metadata": {},
   "source": [
    "Back in the day, I was the data manager for two federal grants that were implemented by a state government.  Our grant provided direct services for citizens, so a portion of the grant was earmarked for those costs.  We were required to spend a certain percentage of grant funds on direct services.  \n",
    "\n",
    "The program I worked for required a 60/40 split when it came to direct services.  This means we had to spend at least 60% of our allotted money on paying for medical services for our participants.  The grant also required that we report very specific data elements from those services. \n",
    "\n",
    "For the sake of easy math, let's say the program was granted $1,000,000."
   ]
  },
  {
   "cell_type": "code",
   "execution_count": 3,
   "metadata": {},
   "outputs": [
    {
     "data": {
      "text/html": [
       "\n",
       "<div id=\"altair-viz-12d32ce175e242aeb4432dcd8f2340d8\"></div>\n",
       "<script type=\"text/javascript\">\n",
       "  (function(spec, embedOpt){\n",
       "    let outputDiv = document.currentScript.previousElementSibling;\n",
       "    if (outputDiv.id !== \"altair-viz-12d32ce175e242aeb4432dcd8f2340d8\") {\n",
       "      outputDiv = document.getElementById(\"altair-viz-12d32ce175e242aeb4432dcd8f2340d8\");\n",
       "    }\n",
       "    const paths = {\n",
       "      \"vega\": \"https://cdn.jsdelivr.net/npm//vega@5?noext\",\n",
       "      \"vega-lib\": \"https://cdn.jsdelivr.net/npm//vega-lib?noext\",\n",
       "      \"vega-lite\": \"https://cdn.jsdelivr.net/npm//vega-lite@4.8.1?noext\",\n",
       "      \"vega-embed\": \"https://cdn.jsdelivr.net/npm//vega-embed@6?noext\",\n",
       "    };\n",
       "\n",
       "    function loadScript(lib) {\n",
       "      return new Promise(function(resolve, reject) {\n",
       "        var s = document.createElement('script');\n",
       "        s.src = paths[lib];\n",
       "        s.async = true;\n",
       "        s.onload = () => resolve(paths[lib]);\n",
       "        s.onerror = () => reject(`Error loading script: ${paths[lib]}`);\n",
       "        document.getElementsByTagName(\"head\")[0].appendChild(s);\n",
       "      });\n",
       "    }\n",
       "\n",
       "    function showError(err) {\n",
       "      outputDiv.innerHTML = `<div class=\"error\" style=\"color:red;\">${err}</div>`;\n",
       "      throw err;\n",
       "    }\n",
       "\n",
       "    function displayChart(vegaEmbed) {\n",
       "      vegaEmbed(outputDiv, spec, embedOpt)\n",
       "        .catch(err => showError(`Javascript Error: ${err.message}<br>This usually means there's a typo in your chart specification. See the javascript console for the full traceback.`));\n",
       "    }\n",
       "\n",
       "    if(typeof define === \"function\" && define.amd) {\n",
       "      requirejs.config({paths});\n",
       "      require([\"vega-embed\"], displayChart, err => showError(`Error loading script: ${err.message}`));\n",
       "    } else if (typeof vegaEmbed === \"function\") {\n",
       "      displayChart(vegaEmbed);\n",
       "    } else {\n",
       "      loadScript(\"vega\")\n",
       "        .then(() => loadScript(\"vega-lite\"))\n",
       "        .then(() => loadScript(\"vega-embed\"))\n",
       "        .catch(showError)\n",
       "        .then(() => displayChart(vegaEmbed));\n",
       "    }\n",
       "  })({\"config\": {\"view\": {\"continuousWidth\": 800, \"continuousHeight\": 600}}, \"data\": {\"name\": \"data-9639842df9b0f59516eabceac07ec489\"}, \"mark\": \"bar\", \"encoding\": {\"color\": {\"type\": \"nominal\", \"field\": \"Resource\", \"legend\": null}, \"tooltip\": [{\"type\": \"nominal\", \"field\": \"Resource\"}, {\"type\": \"quantitative\", \"field\": \"Budget\"}], \"x\": {\"type\": \"quantitative\", \"field\": \"Budget\", \"title\": \"Program Budget Breakdown\"}, \"y\": {\"type\": \"nominal\", \"axis\": {\"labels\": false, \"title\": \"\"}, \"field\": \"Program\"}}, \"$schema\": \"https://vega.github.io/schema/vega-lite/v4.8.1.json\", \"datasets\": {\"data-9639842df9b0f59516eabceac07ec489\": [{\"Resource\": \"Program Administrator\", \"Budget\": 95000, \"Program\": \"Program\"}, {\"Resource\": \"Data Manager\", \"Budget\": 85000, \"Program\": \"Program\"}, {\"Resource\": \"Case Manager\", \"Budget\": 45000, \"Program\": \"Program\"}, {\"Resource\": \"Program Specialist\", \"Budget\": 75000, \"Program\": \"Program\"}, {\"Resource\": \"Program Coordinator\", \"Budget\": 75000, \"Program\": \"Program\"}, {\"Resource\": \"Administrative\", \"Budget\": 20000, \"Program\": \"Program\"}, {\"Resource\": \"Direct Services\", \"Budget\": 600000, \"Program\": \"Program\"}]}}, {\"mode\": \"vega-lite\"});\n",
       "</script>"
      ],
      "text/plain": [
       "alt.Chart(...)"
      ]
     },
     "execution_count": 3,
     "metadata": {},
     "output_type": "execute_result"
    }
   ],
   "source": [
    "#hide-input\n",
    "breakdown = pd.DataFrame({'Resource':['Program Administrator','Data Manager', 'Case Manager','Program Specialist','Program Coordinator', 'Administrative', 'Direct Services'],\n",
    "                         'Budget': [95000, 85000, 45000,75000,75000,20000,600000,]\n",
    "                         })\n",
    "breakdown[\"Program\"] = \"Program\"\n",
    "\n",
    "budget = alt.Chart(breakdown).mark_bar().encode(\n",
    "    x=alt.X('Budget', title='Program Budget Breakdown'),\n",
    "    y=alt.Y('Program', axis=alt.Axis(labels=False, title ='')),\n",
    "    color=alt.Color('Resource', legend=None),\n",
    "    tooltip=['Resource', 'Budget']\n",
    ").configure_view(continuousHeight=600, continuousWidth=800)\n",
    "\n",
    "budget"
   ]
  },
  {
   "cell_type": "markdown",
   "metadata": {},
   "source": [
    "The grant requires that we find individuals in need of services, so we'll need a Program Coordinator.  It also requires a Program Specialist to engage with the organizations that provide the service and receive data reports from those organizations. This person should understand what data is required, how it comes in, will probably need to enter that data, and coordinate with service providers and participants regularly. The grant requires a Data Manager for bi-annual reporting of Minimum Data Elements (MDEs) identified and verified by the funding agency and ad-hoc program evaluation. The funding agency also requires regular reporting of progress and a specific adminstration of the grant, thus requiring a Program Administrator.  Because the staff for the program will need materials and space, there is an annual administrative budget.  This fits exactly into the $1,000,000 allotted. "
   ]
  },
  {
   "cell_type": "code",
   "execution_count": 30,
   "metadata": {},
   "outputs": [
    {
     "data": {
      "text/html": [
       "<div>\n",
       "<style scoped>\n",
       "    .dataframe tbody tr th:only-of-type {\n",
       "        vertical-align: middle;\n",
       "    }\n",
       "\n",
       "    .dataframe tbody tr th {\n",
       "        vertical-align: top;\n",
       "    }\n",
       "\n",
       "    .dataframe thead th {\n",
       "        text-align: right;\n",
       "    }\n",
       "</style>\n",
       "<table border=\"1\" class=\"dataframe\">\n",
       "  <thead>\n",
       "    <tr style=\"text-align: right;\">\n",
       "      <th></th>\n",
       "      <th>Industry</th>\n",
       "      <th>Technologists</th>\n",
       "      <th>total_emp</th>\n",
       "      <th>Hourly mean wage</th>\n",
       "      <th>annual_salary_tech</th>\n",
       "      <th>annual_salary_all</th>\n",
       "      <th>Percent Tech</th>\n",
       "    </tr>\n",
       "  </thead>\n",
       "  <tbody>\n",
       "    <tr>\n",
       "      <th>0</th>\n",
       "      <td>Agriculture, Forestry, Fishing and Hunting</td>\n",
       "      <td>290</td>\n",
       "      <td>430720</td>\n",
       "      <td>35.38</td>\n",
       "      <td>73590</td>\n",
       "      <td>33510</td>\n",
       "      <td>0.0007</td>\n",
       "    </tr>\n",
       "    <tr>\n",
       "      <th>1</th>\n",
       "      <td>Mining</td>\n",
       "      <td>12630</td>\n",
       "      <td>684390</td>\n",
       "      <td>53.89</td>\n",
       "      <td>112100</td>\n",
       "      <td>65860</td>\n",
       "      <td>0.0185</td>\n",
       "    </tr>\n",
       "    <tr>\n",
       "      <th>2</th>\n",
       "      <td>Utilities</td>\n",
       "      <td>19480</td>\n",
       "      <td>547100</td>\n",
       "      <td>45.35</td>\n",
       "      <td>94320</td>\n",
       "      <td>81550</td>\n",
       "      <td>0.0356</td>\n",
       "    </tr>\n",
       "    <tr>\n",
       "      <th>3</th>\n",
       "      <td>Construction</td>\n",
       "      <td>18100</td>\n",
       "      <td>7439360</td>\n",
       "      <td>36.91</td>\n",
       "      <td>76770</td>\n",
       "      <td>57110</td>\n",
       "      <td>0.0024</td>\n",
       "    </tr>\n",
       "    <tr>\n",
       "      <th>4</th>\n",
       "      <td>Manufacturing</td>\n",
       "      <td>307140</td>\n",
       "      <td>12707850</td>\n",
       "      <td>49.38</td>\n",
       "      <td>102710</td>\n",
       "      <td>54260</td>\n",
       "      <td>0.0242</td>\n",
       "    </tr>\n",
       "  </tbody>\n",
       "</table>\n",
       "</div>"
      ],
      "text/plain": [
       "                                     Industry  Technologists  total_emp  \\\n",
       "0  Agriculture, Forestry, Fishing and Hunting            290     430720   \n",
       "1                                      Mining          12630     684390   \n",
       "2                                   Utilities          19480     547100   \n",
       "3                                Construction          18100    7439360   \n",
       "4                               Manufacturing         307140   12707850   \n",
       "\n",
       "   Hourly mean wage  annual_salary_tech  annual_salary_all  Percent Tech  \n",
       "0             35.38               73590              33510        0.0007  \n",
       "1             53.89              112100              65860        0.0185  \n",
       "2             45.35               94320              81550        0.0356  \n",
       "3             36.91               76770              57110        0.0024  \n",
       "4             49.38              102710              54260        0.0242  "
      ]
     },
     "execution_count": 30,
     "metadata": {},
     "output_type": "execute_result"
    }
   ],
   "source": [
    "data = pd.read_csv(\"data/oes_all_x_tech.csv\", encoding='utf-8')\n",
    "jobs = pd.DataFrame(data=data)\n",
    "jobs['Percent Tech'] = round((jobs['Technologists']/jobs['total_emp']), 4)\n",
    "jobs.head()"
   ]
  },
  {
   "cell_type": "code",
   "execution_count": 8,
   "metadata": {},
   "outputs": [
    {
     "data": {
      "text/html": [
       "<div>\n",
       "<style scoped>\n",
       "    .dataframe tbody tr th:only-of-type {\n",
       "        vertical-align: middle;\n",
       "    }\n",
       "\n",
       "    .dataframe tbody tr th {\n",
       "        vertical-align: top;\n",
       "    }\n",
       "\n",
       "    .dataframe thead th {\n",
       "        text-align: right;\n",
       "    }\n",
       "</style>\n",
       "<table border=\"1\" class=\"dataframe\">\n",
       "  <thead>\n",
       "    <tr style=\"text-align: right;\">\n",
       "      <th></th>\n",
       "      <th>Industry</th>\n",
       "      <th>variable</th>\n",
       "      <th>value</th>\n",
       "    </tr>\n",
       "  </thead>\n",
       "  <tbody>\n",
       "    <tr>\n",
       "      <th>0</th>\n",
       "      <td>Agriculture, Forestry, Fishing and Hunting</td>\n",
       "      <td>Technologists</td>\n",
       "      <td>290</td>\n",
       "    </tr>\n",
       "    <tr>\n",
       "      <th>1</th>\n",
       "      <td>Mining</td>\n",
       "      <td>Technologists</td>\n",
       "      <td>12630</td>\n",
       "    </tr>\n",
       "    <tr>\n",
       "      <th>2</th>\n",
       "      <td>Utilities</td>\n",
       "      <td>Technologists</td>\n",
       "      <td>19480</td>\n",
       "    </tr>\n",
       "    <tr>\n",
       "      <th>3</th>\n",
       "      <td>Construction</td>\n",
       "      <td>Technologists</td>\n",
       "      <td>18100</td>\n",
       "    </tr>\n",
       "    <tr>\n",
       "      <th>4</th>\n",
       "      <td>Manufacturing</td>\n",
       "      <td>Technologists</td>\n",
       "      <td>307140</td>\n",
       "    </tr>\n",
       "  </tbody>\n",
       "</table>\n",
       "</div>"
      ],
      "text/plain": [
       "                                     Industry       variable   value\n",
       "0  Agriculture, Forestry, Fishing and Hunting  Technologists     290\n",
       "1                                      Mining  Technologists   12630\n",
       "2                                   Utilities  Technologists   19480\n",
       "3                                Construction  Technologists   18100\n",
       "4                               Manufacturing  Technologists  307140"
      ]
     },
     "execution_count": 8,
     "metadata": {},
     "output_type": "execute_result"
    }
   ],
   "source": [
    "pivoted = pd.DataFrame(data=jobs, columns = [\"Industry\", \"Technologists\", \"total_emp\"])\n",
    "pivoted = pd.melt(pivoted, id_vars=['Industry'], value_vars = ['Technologists', 'total_emp'])\n",
    "pivoted.head()"
   ]
  },
  {
   "cell_type": "code",
   "execution_count": 9,
   "metadata": {
    "collapsed": true,
    "jupyter": {
     "outputs_hidden": true
    }
   },
   "outputs": [],
   "source": [
    "convert_pivot = {'Industry': str, \n",
    "                'variable': str, \n",
    "                'value': int, \n",
    "               }\n",
    "types = pivoted.astype(convert_pivot)\n"
   ]
  },
  {
   "cell_type": "code",
   "execution_count": 20,
   "metadata": {},
   "outputs": [
    {
     "name": "stdout",
     "output_type": "stream",
     "text": [
      "Industry    object\n",
      "variable    object\n",
      "value        int64\n",
      "dtype: object\n"
     ]
    }
   ],
   "source": [
    "print(types.dtypes)"
   ]
  },
  {
   "cell_type": "code",
   "execution_count": 31,
   "metadata": {},
   "outputs": [
    {
     "data": {
      "text/html": [
       "\n",
       "<div id=\"altair-viz-187db8e8c5714dc4865241ba1ef5a6d1\"></div>\n",
       "<script type=\"text/javascript\">\n",
       "  (function(spec, embedOpt){\n",
       "    let outputDiv = document.currentScript.previousElementSibling;\n",
       "    if (outputDiv.id !== \"altair-viz-187db8e8c5714dc4865241ba1ef5a6d1\") {\n",
       "      outputDiv = document.getElementById(\"altair-viz-187db8e8c5714dc4865241ba1ef5a6d1\");\n",
       "    }\n",
       "    const paths = {\n",
       "      \"vega\": \"https://cdn.jsdelivr.net/npm//vega@5?noext\",\n",
       "      \"vega-lib\": \"https://cdn.jsdelivr.net/npm//vega-lib?noext\",\n",
       "      \"vega-lite\": \"https://cdn.jsdelivr.net/npm//vega-lite@4.8.1?noext\",\n",
       "      \"vega-embed\": \"https://cdn.jsdelivr.net/npm//vega-embed@6?noext\",\n",
       "    };\n",
       "\n",
       "    function loadScript(lib) {\n",
       "      return new Promise(function(resolve, reject) {\n",
       "        var s = document.createElement('script');\n",
       "        s.src = paths[lib];\n",
       "        s.async = true;\n",
       "        s.onload = () => resolve(paths[lib]);\n",
       "        s.onerror = () => reject(`Error loading script: ${paths[lib]}`);\n",
       "        document.getElementsByTagName(\"head\")[0].appendChild(s);\n",
       "      });\n",
       "    }\n",
       "\n",
       "    function showError(err) {\n",
       "      outputDiv.innerHTML = `<div class=\"error\" style=\"color:red;\">${err}</div>`;\n",
       "      throw err;\n",
       "    }\n",
       "\n",
       "    function displayChart(vegaEmbed) {\n",
       "      vegaEmbed(outputDiv, spec, embedOpt)\n",
       "        .catch(err => showError(`Javascript Error: ${err.message}<br>This usually means there's a typo in your chart specification. See the javascript console for the full traceback.`));\n",
       "    }\n",
       "\n",
       "    if(typeof define === \"function\" && define.amd) {\n",
       "      requirejs.config({paths});\n",
       "      require([\"vega-embed\"], displayChart, err => showError(`Error loading script: ${err.message}`));\n",
       "    } else if (typeof vegaEmbed === \"function\") {\n",
       "      displayChart(vegaEmbed);\n",
       "    } else {\n",
       "      loadScript(\"vega\")\n",
       "        .then(() => loadScript(\"vega-lite\"))\n",
       "        .then(() => loadScript(\"vega-embed\"))\n",
       "        .catch(showError)\n",
       "        .then(() => displayChart(vegaEmbed));\n",
       "    }\n",
       "  })({\"config\": {\"view\": {\"continuousWidth\": 400, \"continuousHeight\": 300, \"stroke\": null}, \"axis\": {\"labelFontSize\": 16, \"titleFontSize\": 16}, \"facet\": {\"spacing\": 0}}, \"data\": {\"name\": \"data-2ae1159158d27eadd7506611ab1e5090\"}, \"mark\": \"circle\", \"encoding\": {\"color\": {\"type\": \"nominal\", \"field\": \"Industry\"}, \"tooltip\": [{\"type\": \"nominal\", \"field\": \"Industry\"}, {\"type\": \"quantitative\", \"field\": \"Percent Tech\"}], \"x\": {\"type\": \"quantitative\", \"axis\": {\"format\": \".0%\"}, \"field\": \"Percent Tech\"}}, \"$schema\": \"https://vega.github.io/schema/vega-lite/v4.8.1.json\", \"datasets\": {\"data-2ae1159158d27eadd7506611ab1e5090\": [{\"Industry\": \"Agriculture, Forestry, Fishing and Hunting\", \"Technologists\": 290, \"total_emp\": 430720, \"Hourly mean wage\": 35.38, \"annual_salary_tech\": 73590, \"annual_salary_all\": 33510, \"Percent Tech\": 0.0007}, {\"Industry\": \"Mining\", \"Technologists\": 12630, \"total_emp\": 684390, \"Hourly mean wage\": 53.89, \"annual_salary_tech\": 112100, \"annual_salary_all\": 65860, \"Percent Tech\": 0.0185}, {\"Industry\": \"Utilities\", \"Technologists\": 19480, \"total_emp\": 547100, \"Hourly mean wage\": 45.35, \"annual_salary_tech\": 94320, \"annual_salary_all\": 81550, \"Percent Tech\": 0.0356}, {\"Industry\": \"Construction\", \"Technologists\": 18100, \"total_emp\": 7439360, \"Hourly mean wage\": 36.91, \"annual_salary_tech\": 76770, \"annual_salary_all\": 57110, \"Percent Tech\": 0.0024}, {\"Industry\": \"Manufacturing\", \"Technologists\": 307140, \"total_emp\": 12707850, \"Hourly mean wage\": 49.38, \"annual_salary_tech\": 102710, \"annual_salary_all\": 54260, \"Percent Tech\": 0.0242}, {\"Industry\": \"Wholesale Trade\", \"Technologists\": 173160, \"total_emp\": 5848510, \"Hourly mean wage\": 42.04, \"annual_salary_tech\": 87440, \"annual_salary_all\": 59110, \"Percent Tech\": 0.0296}, {\"Industry\": \"Retail Trade\", \"Technologists\": 49940, \"total_emp\": 15822440, \"Hourly mean wage\": 38.74, \"annual_salary_tech\": 80590, \"annual_salary_all\": 34870, \"Percent Tech\": 0.0032}, {\"Industry\": \"Transportation and Warehousing\", \"Technologists\": 39560, \"total_emp\": 6281590, \"Hourly mean wage\": 38.72, \"annual_salary_tech\": 80540, \"annual_salary_all\": 49850, \"Percent Tech\": 0.0063}, {\"Industry\": \"Information\", \"Technologists\": 588500, \"total_emp\": 2831080, \"Hourly mean wage\": 48.99, \"annual_salary_tech\": 101900, \"annual_salary_all\": 80050, \"Percent Tech\": 0.2079}, {\"Industry\": \"Finance and Insurance\", \"Technologists\": 438650, \"total_emp\": 5972610, \"Hourly mean wage\": 47.63, \"annual_salary_tech\": 99070, \"annual_salary_all\": 75280, \"Percent Tech\": 0.0734}, {\"Industry\": \"Real Estate and Rental and Leasing\", \"Technologists\": 18110, \"total_emp\": 2259880, \"Hourly mean wage\": 40.52, \"annual_salary_tech\": 84290, \"annual_salary_all\": 51190, \"Percent Tech\": 0.008}, {\"Industry\": \"Professional, Scientific, and Technical Services\", \"Technologists\": 1664310, \"total_emp\": 9379990, \"Hourly mean wage\": 46.74, \"annual_salary_tech\": 97230, \"annual_salary_all\": 85720, \"Percent Tech\": 0.1774}, {\"Industry\": \"Management of Companies and Enterprises\", \"Technologists\": 289550, \"total_emp\": 2463870, \"Hourly mean wage\": 45.01, \"annual_salary_tech\": 93630, \"annual_salary_all\": 87280, \"Percent Tech\": 0.1175}, {\"Industry\": \"Administrative and Support and Waste Management and Remediation Services\", \"Technologists\": 235830, \"total_emp\": 9372940, \"Hourly mean wage\": 41.34, \"annual_salary_tech\": 85990, \"annual_salary_all\": 42010, \"Percent Tech\": 0.0252}, {\"Industry\": \"Educational Services\", \"Technologists\": 231480, \"total_emp\": 13275220, \"Hourly mean wage\": 33.16, \"annual_salary_tech\": 68960, \"annual_salary_all\": 58080, \"Percent Tech\": 0.0174}, {\"Industry\": \"Health Care and Social Assistance\", \"Technologists\": 146000, \"total_emp\": 21025440, \"Hourly mean wage\": 37.14, \"annual_salary_tech\": 77260, \"annual_salary_all\": 55300, \"Percent Tech\": 0.0069}, {\"Industry\": \"Arts, Entertainment, and Recreation\", \"Technologists\": 11310, \"total_emp\": 2484140, \"Hourly mean wage\": 34.87, \"annual_salary_tech\": 72530, \"annual_salary_all\": 39300, \"Percent Tech\": 0.0046}, {\"Industry\": \"Accommodation and Food Services\", \"Technologists\": 5160, \"total_emp\": 14073290, \"Hourly mean wage\": 30.11, \"annual_salary_tech\": 62620, \"annual_salary_all\": 27980, \"Percent Tech\": 0.0004}, {\"Industry\": \"Other Services (except Federal, State, and Local Government)\", \"Technologists\": 39750, \"total_emp\": 4249730, \"Hourly mean wage\": 36.94, \"annual_salary_tech\": 76830, \"annual_salary_all\": 44220, \"Percent Tech\": 0.0094}, {\"Industry\": \"Federal, State, and Local Government\", \"Technologists\": 263930, \"total_emp\": 9725350, \"Hourly mean wage\": 41.38, \"annual_salary_tech\": 86070, \"annual_salary_all\": 62720, \"Percent Tech\": 0.0271}]}}, {\"mode\": \"vega-lite\"});\n",
       "</script>"
      ],
      "text/plain": [
       "alt.Chart(...)"
      ]
     },
     "execution_count": 31,
     "metadata": {},
     "output_type": "execute_result"
    }
   ],
   "source": [
    "horizontal_stripplot =  alt.Chart(jobs).mark_circle().encode(\n",
    "    x=alt.X('Percent Tech:Q', axis=alt.Axis(format='.0%') ),\n",
    "    color=alt.Color('Industry:N'),\n",
    "    tooltip=['Industry', 'Percent Tech']\n",
    ").configure_facet(\n",
    "    spacing=0\n",
    ").configure_view(\n",
    "    stroke=None\n",
    ").configure_axis(\n",
    "    labelFontSize=16,\n",
    "    titleFontSize=16)\n",
    "\n",
    "horizontal_stripplot"
   ]
  },
  {
   "cell_type": "code",
   "execution_count": 10,
   "metadata": {},
   "outputs": [
    {
     "data": {
      "text/html": [
       "\n",
       "<div id=\"altair-viz-5d682d45adf24429806f651e15a094e6\"></div>\n",
       "<script type=\"text/javascript\">\n",
       "  (function(spec, embedOpt){\n",
       "    let outputDiv = document.currentScript.previousElementSibling;\n",
       "    if (outputDiv.id !== \"altair-viz-5d682d45adf24429806f651e15a094e6\") {\n",
       "      outputDiv = document.getElementById(\"altair-viz-5d682d45adf24429806f651e15a094e6\");\n",
       "    }\n",
       "    const paths = {\n",
       "      \"vega\": \"https://cdn.jsdelivr.net/npm//vega@5?noext\",\n",
       "      \"vega-lib\": \"https://cdn.jsdelivr.net/npm//vega-lib?noext\",\n",
       "      \"vega-lite\": \"https://cdn.jsdelivr.net/npm//vega-lite@4.8.1?noext\",\n",
       "      \"vega-embed\": \"https://cdn.jsdelivr.net/npm//vega-embed@6?noext\",\n",
       "    };\n",
       "\n",
       "    function loadScript(lib) {\n",
       "      return new Promise(function(resolve, reject) {\n",
       "        var s = document.createElement('script');\n",
       "        s.src = paths[lib];\n",
       "        s.async = true;\n",
       "        s.onload = () => resolve(paths[lib]);\n",
       "        s.onerror = () => reject(`Error loading script: ${paths[lib]}`);\n",
       "        document.getElementsByTagName(\"head\")[0].appendChild(s);\n",
       "      });\n",
       "    }\n",
       "\n",
       "    function showError(err) {\n",
       "      outputDiv.innerHTML = `<div class=\"error\" style=\"color:red;\">${err}</div>`;\n",
       "      throw err;\n",
       "    }\n",
       "\n",
       "    function displayChart(vegaEmbed) {\n",
       "      vegaEmbed(outputDiv, spec, embedOpt)\n",
       "        .catch(err => showError(`Javascript Error: ${err.message}<br>This usually means there's a typo in your chart specification. See the javascript console for the full traceback.`));\n",
       "    }\n",
       "\n",
       "    if(typeof define === \"function\" && define.amd) {\n",
       "      requirejs.config({paths});\n",
       "      require([\"vega-embed\"], displayChart, err => showError(`Error loading script: ${err.message}`));\n",
       "    } else if (typeof vegaEmbed === \"function\") {\n",
       "      displayChart(vegaEmbed);\n",
       "    } else {\n",
       "      loadScript(\"vega\")\n",
       "        .then(() => loadScript(\"vega-lite\"))\n",
       "        .then(() => loadScript(\"vega-embed\"))\n",
       "        .catch(showError)\n",
       "        .then(() => displayChart(vegaEmbed));\n",
       "    }\n",
       "  })({\"config\": {\"view\": {\"continuousWidth\": 400, \"continuousHeight\": 300}}, \"data\": {\"name\": \"data-1988df436ee82602dc8324509df1c39f\"}, \"mark\": \"bar\", \"encoding\": {\"color\": {\"type\": \"nominal\", \"field\": \"Industry\"}, \"tooltip\": [{\"type\": \"nominal\", \"field\": \"Industry\"}, {\"type\": \"quantitative\", \"field\": \"value\"}], \"x\": {\"type\": \"nominal\", \"field\": \"variable\"}, \"y\": {\"type\": \"quantitative\", \"field\": \"value\"}}, \"$schema\": \"https://vega.github.io/schema/vega-lite/v4.8.1.json\", \"datasets\": {\"data-1988df436ee82602dc8324509df1c39f\": [{\"Industry\": \"Agriculture, Forestry, Fishing and Hunting\", \"variable\": \"Technologists\", \"value\": 290}, {\"Industry\": \"Mining\", \"variable\": \"Technologists\", \"value\": 12630}, {\"Industry\": \"Utilities\", \"variable\": \"Technologists\", \"value\": 19480}, {\"Industry\": \"Construction\", \"variable\": \"Technologists\", \"value\": 18100}, {\"Industry\": \"Manufacturing\", \"variable\": \"Technologists\", \"value\": 307140}, {\"Industry\": \"Wholesale Trade\", \"variable\": \"Technologists\", \"value\": 173160}, {\"Industry\": \"Retail Trade\", \"variable\": \"Technologists\", \"value\": 49940}, {\"Industry\": \"Transportation and Warehousing\", \"variable\": \"Technologists\", \"value\": 39560}, {\"Industry\": \"Information\", \"variable\": \"Technologists\", \"value\": 588500}, {\"Industry\": \"Finance and Insurance\", \"variable\": \"Technologists\", \"value\": 438650}, {\"Industry\": \"Real Estate and Rental and Leasing\", \"variable\": \"Technologists\", \"value\": 18110}, {\"Industry\": \"Professional, Scientific, and Technical Services\", \"variable\": \"Technologists\", \"value\": 1664310}, {\"Industry\": \"Management of Companies and Enterprises\", \"variable\": \"Technologists\", \"value\": 289550}, {\"Industry\": \"Administrative and Support and Waste Management and Remediation Services\", \"variable\": \"Technologists\", \"value\": 235830}, {\"Industry\": \"Educational Services\", \"variable\": \"Technologists\", \"value\": 231480}, {\"Industry\": \"Health Care and Social Assistance\", \"variable\": \"Technologists\", \"value\": 146000}, {\"Industry\": \"Arts, Entertainment, and Recreation\", \"variable\": \"Technologists\", \"value\": 11310}, {\"Industry\": \"Accommodation and Food Services\", \"variable\": \"Technologists\", \"value\": 5160}, {\"Industry\": \"Other Services (except Federal, State, and Local Government)\", \"variable\": \"Technologists\", \"value\": 39750}, {\"Industry\": \"Federal, State, and Local Government\", \"variable\": \"Technologists\", \"value\": 263930}, {\"Industry\": \"Agriculture, Forestry, Fishing and Hunting\", \"variable\": \"total_emp\", \"value\": 430720}, {\"Industry\": \"Mining\", \"variable\": \"total_emp\", \"value\": 684390}, {\"Industry\": \"Utilities\", \"variable\": \"total_emp\", \"value\": 547100}, {\"Industry\": \"Construction\", \"variable\": \"total_emp\", \"value\": 7439360}, {\"Industry\": \"Manufacturing\", \"variable\": \"total_emp\", \"value\": 12707850}, {\"Industry\": \"Wholesale Trade\", \"variable\": \"total_emp\", \"value\": 5848510}, {\"Industry\": \"Retail Trade\", \"variable\": \"total_emp\", \"value\": 15822440}, {\"Industry\": \"Transportation and Warehousing\", \"variable\": \"total_emp\", \"value\": 6281590}, {\"Industry\": \"Information\", \"variable\": \"total_emp\", \"value\": 2831080}, {\"Industry\": \"Finance and Insurance\", \"variable\": \"total_emp\", \"value\": 5972610}, {\"Industry\": \"Real Estate and Rental and Leasing\", \"variable\": \"total_emp\", \"value\": 2259880}, {\"Industry\": \"Professional, Scientific, and Technical Services\", \"variable\": \"total_emp\", \"value\": 9379990}, {\"Industry\": \"Management of Companies and Enterprises\", \"variable\": \"total_emp\", \"value\": 2463870}, {\"Industry\": \"Administrative and Support and Waste Management and Remediation Services\", \"variable\": \"total_emp\", \"value\": 9372940}, {\"Industry\": \"Educational Services\", \"variable\": \"total_emp\", \"value\": 13275220}, {\"Industry\": \"Health Care and Social Assistance\", \"variable\": \"total_emp\", \"value\": 21025440}, {\"Industry\": \"Arts, Entertainment, and Recreation\", \"variable\": \"total_emp\", \"value\": 2484140}, {\"Industry\": \"Accommodation and Food Services\", \"variable\": \"total_emp\", \"value\": 14073290}, {\"Industry\": \"Other Services (except Federal, State, and Local Government)\", \"variable\": \"total_emp\", \"value\": 4249730}, {\"Industry\": \"Federal, State, and Local Government\", \"variable\": \"total_emp\", \"value\": 9725350}]}}, {\"mode\": \"vega-lite\"});\n",
       "</script>"
      ],
      "text/plain": [
       "alt.Chart(...)"
      ]
     },
     "execution_count": 10,
     "metadata": {},
     "output_type": "execute_result"
    }
   ],
   "source": [
    "ratios = alt.Chart(types).mark_bar().encode(\n",
    "    x='variable',\n",
    "    y='value',\n",
    "    color='Industry',\n",
    "    tooltip=['Industry', 'value']\n",
    "    )\n",
    "ratios"
   ]
  },
  {
   "cell_type": "code",
   "execution_count": 6,
   "metadata": {},
   "outputs": [
    {
     "data": {
      "text/html": [
       "\n",
       "<div id=\"altair-viz-76ece27862b9453bb98e1e813894a170\"></div>\n",
       "<script type=\"text/javascript\">\n",
       "  (function(spec, embedOpt){\n",
       "    let outputDiv = document.currentScript.previousElementSibling;\n",
       "    if (outputDiv.id !== \"altair-viz-76ece27862b9453bb98e1e813894a170\") {\n",
       "      outputDiv = document.getElementById(\"altair-viz-76ece27862b9453bb98e1e813894a170\");\n",
       "    }\n",
       "    const paths = {\n",
       "      \"vega\": \"https://cdn.jsdelivr.net/npm//vega@5?noext\",\n",
       "      \"vega-lib\": \"https://cdn.jsdelivr.net/npm//vega-lib?noext\",\n",
       "      \"vega-lite\": \"https://cdn.jsdelivr.net/npm//vega-lite@4.8.1?noext\",\n",
       "      \"vega-embed\": \"https://cdn.jsdelivr.net/npm//vega-embed@6?noext\",\n",
       "    };\n",
       "\n",
       "    function loadScript(lib) {\n",
       "      return new Promise(function(resolve, reject) {\n",
       "        var s = document.createElement('script');\n",
       "        s.src = paths[lib];\n",
       "        s.async = true;\n",
       "        s.onload = () => resolve(paths[lib]);\n",
       "        s.onerror = () => reject(`Error loading script: ${paths[lib]}`);\n",
       "        document.getElementsByTagName(\"head\")[0].appendChild(s);\n",
       "      });\n",
       "    }\n",
       "\n",
       "    function showError(err) {\n",
       "      outputDiv.innerHTML = `<div class=\"error\" style=\"color:red;\">${err}</div>`;\n",
       "      throw err;\n",
       "    }\n",
       "\n",
       "    function displayChart(vegaEmbed) {\n",
       "      vegaEmbed(outputDiv, spec, embedOpt)\n",
       "        .catch(err => showError(`Javascript Error: ${err.message}<br>This usually means there's a typo in your chart specification. See the javascript console for the full traceback.`));\n",
       "    }\n",
       "\n",
       "    if(typeof define === \"function\" && define.amd) {\n",
       "      requirejs.config({paths});\n",
       "      require([\"vega-embed\"], displayChart, err => showError(`Error loading script: ${err.message}`));\n",
       "    } else if (typeof vegaEmbed === \"function\") {\n",
       "      displayChart(vegaEmbed);\n",
       "    } else {\n",
       "      loadScript(\"vega\")\n",
       "        .then(() => loadScript(\"vega-lite\"))\n",
       "        .then(() => loadScript(\"vega-embed\"))\n",
       "        .catch(showError)\n",
       "        .then(() => displayChart(vegaEmbed));\n",
       "    }\n",
       "  })({\"config\": {\"view\": {\"continuousWidth\": 400, \"continuousHeight\": 300}}, \"data\": {\"name\": \"data-efe1548ff87c7ac9c225ff33978cfcca\"}, \"mark\": \"bar\", \"encoding\": {\"tooltip\": [{\"type\": \"quantitative\", \"field\": \"total_emp\"}], \"x\": {\"type\": \"quantitative\", \"axis\": {\"format\": \".0%\"}, \"field\": \"PercentOfEmployed\"}, \"y\": {\"type\": \"nominal\", \"field\": \"Industry\"}}, \"transform\": [{\"joinaggregate\": [{\"op\": \"sum\", \"field\": \"total_emp\", \"as\": \"TotalEmp\"}]}, {\"calculate\": \"(datum.total_emp-datum.Technologists)/datum.TotalEmp\", \"as\": \"PercentOfEmployed\"}], \"$schema\": \"https://vega.github.io/schema/vega-lite/v4.8.1.json\", \"datasets\": {\"data-efe1548ff87c7ac9c225ff33978cfcca\": [{\"Industry\": \"Agriculture, Forestry, Fishing and Hunting\", \"Technologists\": 290, \"total_emp\": 430720, \"Hourly mean wage\": 35.38, \"annual_salary_tech\": 73590, \"annual_salary_all\": 33510}, {\"Industry\": \"Mining\", \"Technologists\": 12630, \"total_emp\": 684390, \"Hourly mean wage\": 53.89, \"annual_salary_tech\": 112100, \"annual_salary_all\": 65860}, {\"Industry\": \"Utilities\", \"Technologists\": 19480, \"total_emp\": 547100, \"Hourly mean wage\": 45.35, \"annual_salary_tech\": 94320, \"annual_salary_all\": 81550}, {\"Industry\": \"Construction\", \"Technologists\": 18100, \"total_emp\": 7439360, \"Hourly mean wage\": 36.91, \"annual_salary_tech\": 76770, \"annual_salary_all\": 57110}, {\"Industry\": \"Manufacturing\", \"Technologists\": 307140, \"total_emp\": 12707850, \"Hourly mean wage\": 49.38, \"annual_salary_tech\": 102710, \"annual_salary_all\": 54260}, {\"Industry\": \"Wholesale Trade\", \"Technologists\": 173160, \"total_emp\": 5848510, \"Hourly mean wage\": 42.04, \"annual_salary_tech\": 87440, \"annual_salary_all\": 59110}, {\"Industry\": \"Retail Trade\", \"Technologists\": 49940, \"total_emp\": 15822440, \"Hourly mean wage\": 38.74, \"annual_salary_tech\": 80590, \"annual_salary_all\": 34870}, {\"Industry\": \"Transportation and Warehousing\", \"Technologists\": 39560, \"total_emp\": 6281590, \"Hourly mean wage\": 38.72, \"annual_salary_tech\": 80540, \"annual_salary_all\": 49850}, {\"Industry\": \"Information\", \"Technologists\": 588500, \"total_emp\": 2831080, \"Hourly mean wage\": 48.99, \"annual_salary_tech\": 101900, \"annual_salary_all\": 80050}, {\"Industry\": \"Finance and Insurance\", \"Technologists\": 438650, \"total_emp\": 5972610, \"Hourly mean wage\": 47.63, \"annual_salary_tech\": 99070, \"annual_salary_all\": 75280}, {\"Industry\": \"Real Estate and Rental and Leasing\", \"Technologists\": 18110, \"total_emp\": 2259880, \"Hourly mean wage\": 40.52, \"annual_salary_tech\": 84290, \"annual_salary_all\": 51190}, {\"Industry\": \"Professional, Scientific, and Technical Services\", \"Technologists\": 1664310, \"total_emp\": 9379990, \"Hourly mean wage\": 46.74, \"annual_salary_tech\": 97230, \"annual_salary_all\": 85720}, {\"Industry\": \"Management of Companies and Enterprises\", \"Technologists\": 289550, \"total_emp\": 2463870, \"Hourly mean wage\": 45.01, \"annual_salary_tech\": 93630, \"annual_salary_all\": 87280}, {\"Industry\": \"Administrative and Support and Waste Management and Remediation Services\", \"Technologists\": 235830, \"total_emp\": 9372940, \"Hourly mean wage\": 41.34, \"annual_salary_tech\": 85990, \"annual_salary_all\": 42010}, {\"Industry\": \"Educational Services\", \"Technologists\": 231480, \"total_emp\": 13275220, \"Hourly mean wage\": 33.16, \"annual_salary_tech\": 68960, \"annual_salary_all\": 58080}, {\"Industry\": \"Health Care and Social Assistance\", \"Technologists\": 146000, \"total_emp\": 21025440, \"Hourly mean wage\": 37.14, \"annual_salary_tech\": 77260, \"annual_salary_all\": 55300}, {\"Industry\": \"Arts, Entertainment, and Recreation\", \"Technologists\": 11310, \"total_emp\": 2484140, \"Hourly mean wage\": 34.87, \"annual_salary_tech\": 72530, \"annual_salary_all\": 39300}, {\"Industry\": \"Accommodation and Food Services\", \"Technologists\": 5160, \"total_emp\": 14073290, \"Hourly mean wage\": 30.11, \"annual_salary_tech\": 62620, \"annual_salary_all\": 27980}, {\"Industry\": \"Other Services (except Federal, State, and Local Government)\", \"Technologists\": 39750, \"total_emp\": 4249730, \"Hourly mean wage\": 36.94, \"annual_salary_tech\": 76830, \"annual_salary_all\": 44220}, {\"Industry\": \"Federal, State, and Local Government\", \"Technologists\": 263930, \"total_emp\": 9725350, \"Hourly mean wage\": 41.38, \"annual_salary_tech\": 86070, \"annual_salary_all\": 62720}]}}, {\"mode\": \"vega-lite\"});\n",
       "</script>"
      ],
      "text/plain": [
       "alt.Chart(...)"
      ]
     },
     "execution_count": 6,
     "metadata": {},
     "output_type": "execute_result"
    }
   ],
   "source": [
    "alt.Chart(jobs).transform_joinaggregate(\n",
    "    TotalEmp='sum(total_emp)',\n",
    ").transform_calculate(\n",
    "    PercentOfEmployed=\"(datum.total_emp-datum.Technologists)/datum.TotalEmp\"\n",
    ").mark_bar().encode(\n",
    "    alt.X('PercentOfEmployed:Q', axis=alt.Axis(format='.0%')),\n",
    "    y='Industry:N',\n",
    "    tooltip=['total_emp'])"
   ]
  },
  {
   "cell_type": "code",
   "execution_count": null,
   "metadata": {},
   "outputs": [],
   "source": []
  }
 ],
 "metadata": {
  "kernelspec": {
   "display_name": "website",
   "language": "python",
   "name": "website"
  },
  "language_info": {
   "codemirror_mode": {
    "name": "ipython",
    "version": 3
   },
   "file_extension": ".py",
   "mimetype": "text/x-python",
   "name": "python",
   "nbconvert_exporter": "python",
   "pygments_lexer": "ipython3",
   "version": "3.7.4"
  }
 },
 "nbformat": 4,
 "nbformat_minor": 4
}
