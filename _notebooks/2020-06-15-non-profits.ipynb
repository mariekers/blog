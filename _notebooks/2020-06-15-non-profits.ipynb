{
 "cells": [
  {
   "cell_type": "markdown",
   "metadata": {},
   "source": [
    "# Non-Profits & Tech\n",
    "> \"Leveling the playing field\"\n",
    "\n",
    "- toc: true\n",
    "- branch: master\n",
    "- categories: [data, non-profits, civic tech]\n",
    "- image: images/posts/datajawn/bees.jpg\n",
    "- badges: false\n",
    "- hide: false"
   ]
  },
  {
   "cell_type": "code",
   "execution_count": 1,
   "metadata": {},
   "outputs": [],
   "source": [
    "#hide\n",
    "import pandas as pd\n",
    "import numpy as np\n",
    "import altair as alt"
   ]
  },
  {
   "cell_type": "markdown",
   "metadata": {},
   "source": [
    "There is a growing disparity in access to tech, and in turn, access to data.  You have to have a certain income to afford a smart phone and a level of understanding to sign up for tech services, yes.  But I'm particularly interested in the disparity in access to tech _across organizations_. Large, for-profit hospitals can afford more expensive electronic health records and billing tools than a small non-profit organization that serves the homeless. This disparity means that organizations serving individuals with low socioeconomic status have limited access to tools that can automate repeating processes, build basic reports, send data extracts to partners and funders, and generally spend less time entering and processing data. "
   ]
  },
  {
   "cell_type": "markdown",
   "metadata": {},
   "source": [
    "In the tech world, the folks programming and building the actual product generally don't think about costs (outside of developer time). For companies who make money from the product the technologists are building, success is determined by revenue.  \n",
    "\n",
    "![](https://i.gifer.com/VZav.gif)\n",
    "\n",
    "A thriving charity's first success is being able to afford basic operations.  A non-proft has \"made it\" when they can say \"what else can we pay for\". \n",
    "\n",
    "We're going to review the cost of different technical solutions non-profits might use, how things like grant structures prohibit them from engaging technology, how that keeps them from doing what they want, and finally what technologists can do to fill the gap and support them.\n",
    "\n",
    "# How to Read this Guide\n",
    "This post is going to review the cost of different technical solutions non-profits might use, how things like grant structures prohibit them from engaging technology, how that keeps them from doing what they want, and finally what technologists can do to fill the gap and support them.\n",
    "\n",
    "For non-profits and government agencies, there's not a lot of passive (legal) revenue to the organization, so we're gonna cover that choose-your-own-adventure style.\n",
    "\n",
    "If you are in tech, start here.  If you are a non-profit, I'm going assume you're familiar with funding.  Start [further down](#SaaS-Me-If-You-Can).\n",
    "\n",
    "# Making money the hard way \n",
    "## A primer for folks who haven't hustled to avoid revenue\n",
    "\n",
    "Let's start with the assumption that all non-profits need some amount of funding. The most common methods for getting these funds are:\n",
    "1. Donations \n",
    "2. Grants\n",
    "3. Services\n",
    "\n",
    "### Donations\n",
    "For the sake of not letting myself ramble, we're going to focus on financial donations. Many non-profits exist on the model of donations of goods (like Goodwill), selling those goods, and then generating operating costs from those goods. It's a financial model.  It exists. The end.\n",
    "\n",
    "Non-profit organizations normally accept financial donations, but simply relying on someone to wake up and think \"you know what, I'm going to send a check to United Way today\" is probably not going to result in a reliable stream of income, if any income at all.  If a non-profit wants a reliable amount of funds from donations, they need a fundraising campaign.  Fundraising campaigns are not free - if Susan G. Komen spends $200,000 buying fancy pink shoes for football players and raises $800,000 (in an imaginary land in which you can directly attribute all financial donations to a single campaign), they're actually raising $600,000.  They spent 25 cents for every dollar raised.  In order to include this money in an annual budget, the non-profit needs to hold regular fundraising campaigns.  This is why most non-profits will employ a Fundraising Coordinator or Marketing Specialist.  If they plan on relying on donations as a revenue stream, they need to efficiently and consistently fundraise. \n",
    "\n",
    "### Services\n",
    "Some non-profits receive funding for their programs through direct services given to members.  For example, a non-profit that offers Medication Assisted Treatment may submit insurance claims for participants who have received services through the non-profit.  Most insurance companies will have set money amounts for each procedure reported on each claim.\n",
    "\n",
    "Services may also come in the form of goods, like yellow silicone bracelets that are $3 beacons of virtue...\n",
    "\n",
    "\n",
    "\n",
    "### Grants\n",
    "Grants are a sum of money given to an organization for a specific purpose.  Grants come in two basic flavors: a sweet but tangy public grant or an earthy, umami private grant.  In my experience, private grants are a little less stringent with their requirements but here's a basic breakdown of how to receive and use grant funding.\n",
    "\n",
    "**Step 1: Funding Opportunity Announcement (FOA)**\n",
    "Grant agency puts out an FOA (it's the government, did you think there wasn't an acronym?) that specifies what the grant is for, how much you could receive, who is eligible, timeline, and how to apply.  Federal FOA's are almost humorously specific, like this \"[Small Grants Program for Leading English Discussion Groups in Sapporo, Japan](https://www.grants.gov/web/grants/search-grants.html)\" \n",
    "\n",
    "**Step 2: Application and Award**\n",
    "Agency seeking funding writes up their grant application (which usually is about the size of a graduate thesis) including a need statement, program narrative, proposed budget (or a budget narrative), discussion of impact, blood type, head shots, and $20 worth of pennies from 1960. Some of those are a joke but grant applicants have to be really careful what they include in their applications, using specific language, as the submissions are filtered through an [automated](https://www.nsf.gov/pubs/policydocs/pappg18_1/pappg_2.jsp#IIC2) check initally. \n",
    "\n",
    "**Step 3: Administration**\n",
    "Remember that grant budget you put in your application?  Now you have to stick to it. The grant will specify how much money is allotted for each component: personnel, services, materials, etc.  Grant awardees are required to not only stick to these budgets, but also report weekly to the funding agency. \n",
    "\n",
    "For multi-year grants, awardees are oftentimes required to re-apply (with the understanding that they will still receive the grant).  Funding agencies may adjust the amount of funds given to awardees at this time.\n",
    "\n",
    "\n"
   ]
  },
  {
   "cell_type": "markdown",
   "metadata": {},
   "source": [
    "# Identifying and Adopting Tech, An Example\n",
    "## SaaS Me If You Can"
   ]
  },
  {
   "cell_type": "markdown",
   "metadata": {},
   "source": [
    "Back in the day, I was the data manager for two federal grants that were implemented by a state government.  Our grant provided direct services for citizens, so a portion of the grant was earmarked for those costs.  We were required to spend a certain percentage of grant funds on direct services.  \n",
    "\n",
    "The program I worked for required a 60/40 split when it came to direct services.  This means we had to spend at least 60% of our allotted money on paying for medical services for our participants.  The grant also required that we report very specific data elements from those services. \n",
    "\n",
    "Because the grant was federally funded but implemented at the state level, the program was responsible for both salary and benefits for all employees.  The Program was also responsible for paying an administrative fee to the state - for using state resources (internet, office space, legal services, etc). \n",
    "\n",
    "For the sake of easy math, let's say the program was granted $1,000,000."
   ]
  },
  {
   "cell_type": "code",
   "execution_count": 3,
   "metadata": {},
   "outputs": [
    {
     "data": {
      "text/html": [
       "\n",
       "<div id=\"altair-viz-237ae611bfbb42d48d6103a8471f14b4\"></div>\n",
       "<script type=\"text/javascript\">\n",
       "  (function(spec, embedOpt){\n",
       "    let outputDiv = document.currentScript.previousElementSibling;\n",
       "    if (outputDiv.id !== \"altair-viz-237ae611bfbb42d48d6103a8471f14b4\") {\n",
       "      outputDiv = document.getElementById(\"altair-viz-237ae611bfbb42d48d6103a8471f14b4\");\n",
       "    }\n",
       "    const paths = {\n",
       "      \"vega\": \"https://cdn.jsdelivr.net/npm//vega@5?noext\",\n",
       "      \"vega-lib\": \"https://cdn.jsdelivr.net/npm//vega-lib?noext\",\n",
       "      \"vega-lite\": \"https://cdn.jsdelivr.net/npm//vega-lite@4.8.1?noext\",\n",
       "      \"vega-embed\": \"https://cdn.jsdelivr.net/npm//vega-embed@6?noext\",\n",
       "    };\n",
       "\n",
       "    function loadScript(lib) {\n",
       "      return new Promise(function(resolve, reject) {\n",
       "        var s = document.createElement('script');\n",
       "        s.src = paths[lib];\n",
       "        s.async = true;\n",
       "        s.onload = () => resolve(paths[lib]);\n",
       "        s.onerror = () => reject(`Error loading script: ${paths[lib]}`);\n",
       "        document.getElementsByTagName(\"head\")[0].appendChild(s);\n",
       "      });\n",
       "    }\n",
       "\n",
       "    function showError(err) {\n",
       "      outputDiv.innerHTML = `<div class=\"error\" style=\"color:red;\">${err}</div>`;\n",
       "      throw err;\n",
       "    }\n",
       "\n",
       "    function displayChart(vegaEmbed) {\n",
       "      vegaEmbed(outputDiv, spec, embedOpt)\n",
       "        .catch(err => showError(`Javascript Error: ${err.message}<br>This usually means there's a typo in your chart specification. See the javascript console for the full traceback.`));\n",
       "    }\n",
       "\n",
       "    if(typeof define === \"function\" && define.amd) {\n",
       "      requirejs.config({paths});\n",
       "      require([\"vega-embed\"], displayChart, err => showError(`Error loading script: ${err.message}`));\n",
       "    } else if (typeof vegaEmbed === \"function\") {\n",
       "      displayChart(vegaEmbed);\n",
       "    } else {\n",
       "      loadScript(\"vega\")\n",
       "        .then(() => loadScript(\"vega-lite\"))\n",
       "        .then(() => loadScript(\"vega-embed\"))\n",
       "        .catch(showError)\n",
       "        .then(() => displayChart(vegaEmbed));\n",
       "    }\n",
       "  })({\"config\": {\"view\": {\"continuousWidth\": 400, \"continuousHeight\": 300}}, \"data\": {\"name\": \"data-9639842df9b0f59516eabceac07ec489\"}, \"mark\": \"bar\", \"encoding\": {\"color\": {\"type\": \"nominal\", \"field\": \"Resource\", \"legend\": null}, \"tooltip\": [{\"type\": \"nominal\", \"field\": \"Resource\"}, {\"type\": \"quantitative\", \"field\": \"Budget\"}], \"x\": {\"type\": \"quantitative\", \"field\": \"Budget\", \"title\": \"Program Budget Breakdown\"}, \"y\": {\"type\": \"nominal\", \"axis\": {\"labels\": false, \"title\": \"\"}, \"field\": \"Program\"}}, \"$schema\": \"https://vega.github.io/schema/vega-lite/v4.8.1.json\", \"datasets\": {\"data-9639842df9b0f59516eabceac07ec489\": [{\"Resource\": \"Program Administrator\", \"Budget\": 95000, \"Program\": \"Program\"}, {\"Resource\": \"Data Manager\", \"Budget\": 85000, \"Program\": \"Program\"}, {\"Resource\": \"Case Manager\", \"Budget\": 45000, \"Program\": \"Program\"}, {\"Resource\": \"Program Specialist\", \"Budget\": 75000, \"Program\": \"Program\"}, {\"Resource\": \"Program Coordinator\", \"Budget\": 75000, \"Program\": \"Program\"}, {\"Resource\": \"Administrative\", \"Budget\": 20000, \"Program\": \"Program\"}, {\"Resource\": \"Direct Services\", \"Budget\": 600000, \"Program\": \"Program\"}]}}, {\"mode\": \"vega-lite\"});\n",
       "</script>"
      ],
      "text/plain": [
       "alt.Chart(...)"
      ]
     },
     "execution_count": 3,
     "metadata": {},
     "output_type": "execute_result"
    }
   ],
   "source": [
    "#hide-input\n",
    "breakdown = pd.DataFrame({'Resource':['Program Administrator','Data Manager', 'Case Manager','Program Specialist','Program Coordinator', 'Administrative', 'Direct Services'],\n",
    "                         'Budget': [95000, 85000, 45000,75000,75000,20000,600000,]\n",
    "                         })\n",
    "breakdown[\"Program\"] = \"Program\"\n",
    "\n",
    "budget = alt.Chart(breakdown).mark_bar().encode(\n",
    "    x=alt.X('Budget', title='Program Budget Breakdown'),\n",
    "    y=alt.Y('Program', axis=alt.Axis(labels=False, title ='')),\n",
    "    color=alt.Color('Resource', legend=None),\n",
    "    tooltip=['Resource', 'Budget']\n",
    ")\n",
    "\n",
    "budget"
   ]
  },
  {
   "cell_type": "markdown",
   "metadata": {},
   "source": [
    "The grant requires that we find individuals in need of services, so we'll need a Program Coordinator.  It also requires a Program Specialist to engage with the organizations that provide the service and receive data reports from those organizations. This person should understand what data is required, how it comes in, will probably need to enter that data, and coordinate with service providers and participants regularly. The grant requires a Data Manager for bi-annual reporting of Minimum Data Elements (MDEs) identified and verified by the funding agency and ad-hoc program evaluation. The funding agency also requires regular reporting of progress and a specific adminstration of the grant, thus requiring a Program Administrator.  Because the staff for the program will need materials and space, there is an annual administrative budget.  This fits exactly into the $1,000,000 allotted. "
   ]
  },
  {
   "cell_type": "markdown",
   "metadata": {},
   "source": [
    "# How important is tech?\n",
    "\n",
    "Based on this budget breakdown, there is no room for paying for developers or third party tooling.  \n",
    "\n",
    "But is it necessary?  How much is tech used nowadays anyways? Are there any industries that don't need technology?"
   ]
  },
  {
   "cell_type": "markdown",
   "metadata": {},
   "source": [
    "I pulled [2019 data from the Bureau of Labor Statistics](https://www.bls.gov/data/) to see what percentage of each major industry is technologists. "
   ]
  },
  {
   "cell_type": "code",
   "execution_count": 4,
   "metadata": {},
   "outputs": [],
   "source": [
    "#hide\n",
    "jobs = pd.read_csv(\"data/oes_all_x_tech.csv\", encoding='utf-8')\n",
    "jobs['Percent Tech'] = round((jobs['Technologists']/jobs['total_emp']),4)"
   ]
  },
  {
   "cell_type": "code",
   "execution_count": 53,
   "metadata": {},
   "outputs": [
    {
     "data": {
      "text/html": [
       "\n",
       "<div id=\"altair-viz-1cdca9950ec04ad79d32ceab5bbb10a3\"></div>\n",
       "<script type=\"text/javascript\">\n",
       "  (function(spec, embedOpt){\n",
       "    let outputDiv = document.currentScript.previousElementSibling;\n",
       "    if (outputDiv.id !== \"altair-viz-1cdca9950ec04ad79d32ceab5bbb10a3\") {\n",
       "      outputDiv = document.getElementById(\"altair-viz-1cdca9950ec04ad79d32ceab5bbb10a3\");\n",
       "    }\n",
       "    const paths = {\n",
       "      \"vega\": \"https://cdn.jsdelivr.net/npm//vega@5?noext\",\n",
       "      \"vega-lib\": \"https://cdn.jsdelivr.net/npm//vega-lib?noext\",\n",
       "      \"vega-lite\": \"https://cdn.jsdelivr.net/npm//vega-lite@4.8.1?noext\",\n",
       "      \"vega-embed\": \"https://cdn.jsdelivr.net/npm//vega-embed@6?noext\",\n",
       "    };\n",
       "\n",
       "    function loadScript(lib) {\n",
       "      return new Promise(function(resolve, reject) {\n",
       "        var s = document.createElement('script');\n",
       "        s.src = paths[lib];\n",
       "        s.async = true;\n",
       "        s.onload = () => resolve(paths[lib]);\n",
       "        s.onerror = () => reject(`Error loading script: ${paths[lib]}`);\n",
       "        document.getElementsByTagName(\"head\")[0].appendChild(s);\n",
       "      });\n",
       "    }\n",
       "\n",
       "    function showError(err) {\n",
       "      outputDiv.innerHTML = `<div class=\"error\" style=\"color:red;\">${err}</div>`;\n",
       "      throw err;\n",
       "    }\n",
       "\n",
       "    function displayChart(vegaEmbed) {\n",
       "      vegaEmbed(outputDiv, spec, embedOpt)\n",
       "        .catch(err => showError(`Javascript Error: ${err.message}<br>This usually means there's a typo in your chart specification. See the javascript console for the full traceback.`));\n",
       "    }\n",
       "\n",
       "    if(typeof define === \"function\" && define.amd) {\n",
       "      requirejs.config({paths});\n",
       "      require([\"vega-embed\"], displayChart, err => showError(`Error loading script: ${err.message}`));\n",
       "    } else if (typeof vegaEmbed === \"function\") {\n",
       "      displayChart(vegaEmbed);\n",
       "    } else {\n",
       "      loadScript(\"vega\")\n",
       "        .then(() => loadScript(\"vega-lite\"))\n",
       "        .then(() => loadScript(\"vega-embed\"))\n",
       "        .catch(showError)\n",
       "        .then(() => displayChart(vegaEmbed));\n",
       "    }\n",
       "  })({\"config\": {\"view\": {\"continuousWidth\": 400, \"continuousHeight\": 300, \"stroke\": null}, \"axis\": {\"labelFontSize\": 16, \"titleFontSize\": 16}, \"axisY\": {\"maxExtent\": 55}, \"facet\": {\"spacing\": 0}}, \"data\": {\"name\": \"data-2ae1159158d27eadd7506611ab1e5090\"}, \"mark\": {\"type\": \"circle\", \"size\": 100}, \"encoding\": {\"color\": {\"type\": \"nominal\", \"field\": \"Industry\", \"legend\": null}, \"tooltip\": [{\"type\": \"nominal\", \"field\": \"Industry\"}, {\"type\": \"quantitative\", \"field\": \"Percent Tech\", \"format\": \".2%\"}], \"x\": {\"type\": \"quantitative\", \"axis\": {\"format\": \".0%\"}, \"field\": \"Percent Tech\", \"title\": \"% Tech Employees\"}}, \"$schema\": \"https://vega.github.io/schema/vega-lite/v4.8.1.json\", \"datasets\": {\"data-2ae1159158d27eadd7506611ab1e5090\": [{\"Industry\": \"Agriculture, Forestry, Fishing and Hunting\", \"Technologists\": 290, \"total_emp\": 430720, \"Hourly mean wage\": 35.38, \"annual_salary_tech\": 73590, \"annual_salary_all\": 33510, \"Percent Tech\": 0.0007}, {\"Industry\": \"Mining\", \"Technologists\": 12630, \"total_emp\": 684390, \"Hourly mean wage\": 53.89, \"annual_salary_tech\": 112100, \"annual_salary_all\": 65860, \"Percent Tech\": 0.0185}, {\"Industry\": \"Utilities\", \"Technologists\": 19480, \"total_emp\": 547100, \"Hourly mean wage\": 45.35, \"annual_salary_tech\": 94320, \"annual_salary_all\": 81550, \"Percent Tech\": 0.0356}, {\"Industry\": \"Construction\", \"Technologists\": 18100, \"total_emp\": 7439360, \"Hourly mean wage\": 36.91, \"annual_salary_tech\": 76770, \"annual_salary_all\": 57110, \"Percent Tech\": 0.0024}, {\"Industry\": \"Manufacturing\", \"Technologists\": 307140, \"total_emp\": 12707850, \"Hourly mean wage\": 49.38, \"annual_salary_tech\": 102710, \"annual_salary_all\": 54260, \"Percent Tech\": 0.0242}, {\"Industry\": \"Wholesale Trade\", \"Technologists\": 173160, \"total_emp\": 5848510, \"Hourly mean wage\": 42.04, \"annual_salary_tech\": 87440, \"annual_salary_all\": 59110, \"Percent Tech\": 0.0296}, {\"Industry\": \"Retail Trade\", \"Technologists\": 49940, \"total_emp\": 15822440, \"Hourly mean wage\": 38.74, \"annual_salary_tech\": 80590, \"annual_salary_all\": 34870, \"Percent Tech\": 0.0032}, {\"Industry\": \"Transportation and Warehousing\", \"Technologists\": 39560, \"total_emp\": 6281590, \"Hourly mean wage\": 38.72, \"annual_salary_tech\": 80540, \"annual_salary_all\": 49850, \"Percent Tech\": 0.0063}, {\"Industry\": \"Information\", \"Technologists\": 588500, \"total_emp\": 2831080, \"Hourly mean wage\": 48.99, \"annual_salary_tech\": 101900, \"annual_salary_all\": 80050, \"Percent Tech\": 0.2079}, {\"Industry\": \"Finance and Insurance\", \"Technologists\": 438650, \"total_emp\": 5972610, \"Hourly mean wage\": 47.63, \"annual_salary_tech\": 99070, \"annual_salary_all\": 75280, \"Percent Tech\": 0.0734}, {\"Industry\": \"Real Estate and Rental and Leasing\", \"Technologists\": 18110, \"total_emp\": 2259880, \"Hourly mean wage\": 40.52, \"annual_salary_tech\": 84290, \"annual_salary_all\": 51190, \"Percent Tech\": 0.008}, {\"Industry\": \"Professional, Scientific, and Technical Services\", \"Technologists\": 1664310, \"total_emp\": 9379990, \"Hourly mean wage\": 46.74, \"annual_salary_tech\": 97230, \"annual_salary_all\": 85720, \"Percent Tech\": 0.1774}, {\"Industry\": \"Management of Companies and Enterprises\", \"Technologists\": 289550, \"total_emp\": 2463870, \"Hourly mean wage\": 45.01, \"annual_salary_tech\": 93630, \"annual_salary_all\": 87280, \"Percent Tech\": 0.1175}, {\"Industry\": \"Administrative and Support and Waste Management and Remediation Services\", \"Technologists\": 235830, \"total_emp\": 9372940, \"Hourly mean wage\": 41.34, \"annual_salary_tech\": 85990, \"annual_salary_all\": 42010, \"Percent Tech\": 0.0252}, {\"Industry\": \"Educational Services\", \"Technologists\": 231480, \"total_emp\": 13275220, \"Hourly mean wage\": 33.16, \"annual_salary_tech\": 68960, \"annual_salary_all\": 58080, \"Percent Tech\": 0.0174}, {\"Industry\": \"Health Care and Social Assistance\", \"Technologists\": 146000, \"total_emp\": 21025440, \"Hourly mean wage\": 37.14, \"annual_salary_tech\": 77260, \"annual_salary_all\": 55300, \"Percent Tech\": 0.0069}, {\"Industry\": \"Arts, Entertainment, and Recreation\", \"Technologists\": 11310, \"total_emp\": 2484140, \"Hourly mean wage\": 34.87, \"annual_salary_tech\": 72530, \"annual_salary_all\": 39300, \"Percent Tech\": 0.0046}, {\"Industry\": \"Accommodation and Food Services\", \"Technologists\": 5160, \"total_emp\": 14073290, \"Hourly mean wage\": 30.11, \"annual_salary_tech\": 62620, \"annual_salary_all\": 27980, \"Percent Tech\": 0.0004}, {\"Industry\": \"Other Services (except Federal, State, and Local Government)\", \"Technologists\": 39750, \"total_emp\": 4249730, \"Hourly mean wage\": 36.94, \"annual_salary_tech\": 76830, \"annual_salary_all\": 44220, \"Percent Tech\": 0.0094}, {\"Industry\": \"Federal, State, and Local Government\", \"Technologists\": 263930, \"total_emp\": 9725350, \"Hourly mean wage\": 41.38, \"annual_salary_tech\": 86070, \"annual_salary_all\": 62720, \"Percent Tech\": 0.0271}]}}, {\"mode\": \"vega-lite\"});\n",
       "</script>"
      ],
      "text/plain": [
       "alt.Chart(...)"
      ]
     },
     "execution_count": 53,
     "metadata": {},
     "output_type": "execute_result"
    }
   ],
   "source": [
    "#hide-input\n",
    "horizontal_stripplot =  alt.Chart(jobs).mark_circle(size = 100).encode(\n",
    "    x=alt.X('Percent Tech:Q', axis=alt.Axis(format='.0%'), title='% Tech Employees' ),\n",
    "    color=alt.Color('Industry:N', legend=None, ),\n",
    "    tooltip=[alt.Tooltip('Industry:N'), alt.Tooltip('Percent Tech:Q', format='.2%')]\n",
    ").configure_facet(\n",
    "    spacing=0\n",
    ").configure_view(\n",
    "    stroke=None\n",
    ").configure_axis(\n",
    "    labelFontSize=16,\n",
    "    titleFontSize=16\n",
    ").configure_axisY(maxExtent=55)\n",
    "\n",
    "horizontal_stripplot"
   ]
  },
  {
   "cell_type": "markdown",
   "metadata": {},
   "source": [
    "Many of the outliers make sense here - the Information industry is just \"Data Processing, Hosting, and Related Services\". Professional, Scientific, and Technical Services includes \"Computer Systems Design and Related Services\" companies which need developers to create their revenue stream. \n",
    "\n",
    "Within these categories, there's Health Care and Social Assistance, with technologists composing 0.69% of its workforce, and Other Services, with 0.94%. _Health Care_ includes hospitals, medical providers, and emergency services.  _Social Assistance_ is mostly the companies we're looking for here: \tIndividual and Family Services, Community Food and Housing, and Emergency and Other Relief Services. _Other services_ includes Grantmaking and Giving Services, Social Advocacy Organizations, and Business, Professional, Labor, Political, and Similar Organizations. "
   ]
  },
  {
   "cell_type": "markdown",
   "metadata": {},
   "source": [
    "### Non-Profit Industries\n",
    "If you break out the Health Care and Other Services industries to pinpoint non-profit organizations, you find Grantmaking & Giving Services (3.2% Tech), Social Assistance (0.2% Tech), and Social Advocacy Organizations (2% Tech).  Even with the highest percentage of tech employees, Grantmaking & Giving Services pales in comparison to their close relative Finance & Insurance (7.3%). \n"
   ]
  },
  {
   "cell_type": "markdown",
   "metadata": {},
   "source": [
    "# The Cost of Tech\n",
    "## Tech Debt"
   ]
  },
  {
   "cell_type": "code",
   "execution_count": 56,
   "metadata": {},
   "outputs": [],
   "source": [
    "#hide \n",
    "detail = pd.read_csv(\"data/nonprofits_detail.csv\", encoding='utf-8')\n",
    "salary = jobs[['Industry', 'annual_salary_tech', 'annual_salary_all']]\n",
    "salary = salary.rename(columns={'Industry':'Industry', 'annual_salary_tech':'Tech', 'annual_salary_all':'All'})\n",
    "melted = pd.melt(salary.reset_index(), id_vars=['Industry'], value_vars=['Tech', 'All'], var_name='Occupation', value_name='Average Salary')"
   ]
  },
  {
   "cell_type": "markdown",
   "metadata": {},
   "source": [
    "Clearly, tech contributes to every industry in the US.  This is reasonable.  Let's say you want to buy a shirt from a store but you can't get to the store. Remember the days of catalog ordering?  How much more work is it to mail or call an order in?  Imagine managing all of those orders without an inventory or order management system.  The benefit of tech is automating mundane and repetitive activities.  Every organization needs that!\n",
    "\n",
    "**So why isn't it happening with non-profits?**\n"
   ]
  },
  {
   "cell_type": "markdown",
   "metadata": {},
   "source": [
    "### The Johari Window\n",
    "\n",
    "The first project I worked on with Code for Philly was actually born from a desire to do some ad-hoc data analysis for a local non-profit I love.  This non-profit has two dozen separate programs, providing medical and non-medical services to a criminally underserved population. These services are paid for by a combination of donations, grants, and direct service models. When I met with them, I was hoping that they'd be able to just zip together a de-identified extract of their data to do some work on.  \n",
    "\n",
    "Once I started talking with them, I realized that they stored their data in excel spreadsheets, partner systems, and paper forms.  Because they didn't have access to dynamic tech solutions, they couldn't track a participant's activities across multiple programs (or even within a program).  \n",
    "\n",
    "This leads me to the **Johari Window**.\n",
    "\n",
    "![](http://lifewiseadvisors.com/wp-content/uploads/2017/04/unknown-unknown-quadrant-768x616.png)\n",
    "\n"
   ]
  },
  {
   "cell_type": "markdown",
   "metadata": {},
   "source": [
    "Generally, this is an intrapersonal principle but it applies here. When I was a data manager for a grant program, I knew what tech could do for us even if I couldn't build it myself (known-unknowns).  Companies that have tech teams know what they can build and have the capacity to build it (known-knowns). Even organizations that know they need to collect data, and there are tools that do it, but may be a bit lost when it comes to implementing them are empowered to reach out for help (unknown-knowns).  When tech solutions are unknown-unknowns, not only is there an inability to know what you can ask for but even knowing that it can be asked!\n",
    "\n",
    "**If you don't have someone at the table who knows what you can do with tech, your organization won't know how to leverage tech to improve their process.**"
   ]
  },
  {
   "cell_type": "markdown",
   "metadata": {},
   "source": [
    "Let's circle back to [the example I laid out earlier](#SaaS-Me-If-You-Can)."
   ]
  },
  {
   "cell_type": "markdown",
   "metadata": {},
   "source": [
    "I was the only \"tech\" person on the team working on those programs.  My plate was full managing the data requirements of both the program and the grant, so I had no extra bandwidth (and definitely did not have the prowess) to develop a tool to manage all of our data for free. \n",
    "\n",
    "The state employed an IT department, passionate and kind folks who worked to develop and manage external and in-house solutions but who were overwhelmed with the needs of each siloed program.\n",
    "\n",
    "_What is the cheapest way to improve access to technology?_"
   ]
  },
  {
   "cell_type": "markdown",
   "metadata": {},
   "source": [
    "## In-House Team\n",
    "\n",
    "Using the same BLS data, I looked at how much it costs to employ a technologist.\n",
    "\n",
    "On average, technologists in any industry make significantly more than an average employee in that industry.  "
   ]
  },
  {
   "cell_type": "code",
   "execution_count": 55,
   "metadata": {},
   "outputs": [
    {
     "data": {
      "text/html": [
       "\n",
       "<div id=\"altair-viz-6418b42a4fca4ed59ab87c1496a85744\"></div>\n",
       "<script type=\"text/javascript\">\n",
       "  (function(spec, embedOpt){\n",
       "    let outputDiv = document.currentScript.previousElementSibling;\n",
       "    if (outputDiv.id !== \"altair-viz-6418b42a4fca4ed59ab87c1496a85744\") {\n",
       "      outputDiv = document.getElementById(\"altair-viz-6418b42a4fca4ed59ab87c1496a85744\");\n",
       "    }\n",
       "    const paths = {\n",
       "      \"vega\": \"https://cdn.jsdelivr.net/npm//vega@5?noext\",\n",
       "      \"vega-lib\": \"https://cdn.jsdelivr.net/npm//vega-lib?noext\",\n",
       "      \"vega-lite\": \"https://cdn.jsdelivr.net/npm//vega-lite@4.8.1?noext\",\n",
       "      \"vega-embed\": \"https://cdn.jsdelivr.net/npm//vega-embed@6?noext\",\n",
       "    };\n",
       "\n",
       "    function loadScript(lib) {\n",
       "      return new Promise(function(resolve, reject) {\n",
       "        var s = document.createElement('script');\n",
       "        s.src = paths[lib];\n",
       "        s.async = true;\n",
       "        s.onload = () => resolve(paths[lib]);\n",
       "        s.onerror = () => reject(`Error loading script: ${paths[lib]}`);\n",
       "        document.getElementsByTagName(\"head\")[0].appendChild(s);\n",
       "      });\n",
       "    }\n",
       "\n",
       "    function showError(err) {\n",
       "      outputDiv.innerHTML = `<div class=\"error\" style=\"color:red;\">${err}</div>`;\n",
       "      throw err;\n",
       "    }\n",
       "\n",
       "    function displayChart(vegaEmbed) {\n",
       "      vegaEmbed(outputDiv, spec, embedOpt)\n",
       "        .catch(err => showError(`Javascript Error: ${err.message}<br>This usually means there's a typo in your chart specification. See the javascript console for the full traceback.`));\n",
       "    }\n",
       "\n",
       "    if(typeof define === \"function\" && define.amd) {\n",
       "      requirejs.config({paths});\n",
       "      require([\"vega-embed\"], displayChart, err => showError(`Error loading script: ${err.message}`));\n",
       "    } else if (typeof vegaEmbed === \"function\") {\n",
       "      displayChart(vegaEmbed);\n",
       "    } else {\n",
       "      loadScript(\"vega\")\n",
       "        .then(() => loadScript(\"vega-lite\"))\n",
       "        .then(() => loadScript(\"vega-embed\"))\n",
       "        .catch(showError)\n",
       "        .then(() => displayChart(vegaEmbed));\n",
       "    }\n",
       "  })({\"config\": {\"view\": {\"continuousWidth\": 400, \"continuousHeight\": 600}, \"axis\": {\"labelFontSize\": 16, \"titleFontSize\": 16}}, \"data\": {\"name\": \"data-206b94c41653384551085f75cd3c3eb4\"}, \"mark\": {\"type\": \"circle\", \"size\": 100}, \"encoding\": {\"color\": {\"type\": \"nominal\", \"field\": \"Industry\", \"legend\": null}, \"tooltip\": [{\"type\": \"nominal\", \"field\": \"Industry\"}, {\"type\": \"quantitative\", \"field\": \"Average Salary\"}], \"x\": {\"type\": \"quantitative\", \"axis\": {\"title\": \"Average Annual Salary\"}, \"field\": \"Average Salary\", \"scale\": {\"zero\": false}}, \"y\": {\"type\": \"nominal\", \"axis\": {\"title\": null}, \"field\": \"Occupation\"}}, \"$schema\": \"https://vega.github.io/schema/vega-lite/v4.8.1.json\", \"datasets\": {\"data-206b94c41653384551085f75cd3c3eb4\": [{\"Industry\": \"Agriculture, Forestry, Fishing and Hunting\", \"Occupation\": \"Tech\", \"Average Salary\": 73590}, {\"Industry\": \"Mining\", \"Occupation\": \"Tech\", \"Average Salary\": 112100}, {\"Industry\": \"Utilities\", \"Occupation\": \"Tech\", \"Average Salary\": 94320}, {\"Industry\": \"Construction\", \"Occupation\": \"Tech\", \"Average Salary\": 76770}, {\"Industry\": \"Manufacturing\", \"Occupation\": \"Tech\", \"Average Salary\": 102710}, {\"Industry\": \"Wholesale Trade\", \"Occupation\": \"Tech\", \"Average Salary\": 87440}, {\"Industry\": \"Retail Trade\", \"Occupation\": \"Tech\", \"Average Salary\": 80590}, {\"Industry\": \"Transportation and Warehousing\", \"Occupation\": \"Tech\", \"Average Salary\": 80540}, {\"Industry\": \"Information\", \"Occupation\": \"Tech\", \"Average Salary\": 101900}, {\"Industry\": \"Finance and Insurance\", \"Occupation\": \"Tech\", \"Average Salary\": 99070}, {\"Industry\": \"Real Estate and Rental and Leasing\", \"Occupation\": \"Tech\", \"Average Salary\": 84290}, {\"Industry\": \"Professional, Scientific, and Technical Services\", \"Occupation\": \"Tech\", \"Average Salary\": 97230}, {\"Industry\": \"Management of Companies and Enterprises\", \"Occupation\": \"Tech\", \"Average Salary\": 93630}, {\"Industry\": \"Administrative and Support and Waste Management and Remediation Services\", \"Occupation\": \"Tech\", \"Average Salary\": 85990}, {\"Industry\": \"Educational Services\", \"Occupation\": \"Tech\", \"Average Salary\": 68960}, {\"Industry\": \"Health Care and Social Assistance\", \"Occupation\": \"Tech\", \"Average Salary\": 77260}, {\"Industry\": \"Arts, Entertainment, and Recreation\", \"Occupation\": \"Tech\", \"Average Salary\": 72530}, {\"Industry\": \"Accommodation and Food Services\", \"Occupation\": \"Tech\", \"Average Salary\": 62620}, {\"Industry\": \"Other Services (except Federal, State, and Local Government)\", \"Occupation\": \"Tech\", \"Average Salary\": 76830}, {\"Industry\": \"Federal, State, and Local Government\", \"Occupation\": \"Tech\", \"Average Salary\": 86070}, {\"Industry\": \"Agriculture, Forestry, Fishing and Hunting\", \"Occupation\": \"All\", \"Average Salary\": 33510}, {\"Industry\": \"Mining\", \"Occupation\": \"All\", \"Average Salary\": 65860}, {\"Industry\": \"Utilities\", \"Occupation\": \"All\", \"Average Salary\": 81550}, {\"Industry\": \"Construction\", \"Occupation\": \"All\", \"Average Salary\": 57110}, {\"Industry\": \"Manufacturing\", \"Occupation\": \"All\", \"Average Salary\": 54260}, {\"Industry\": \"Wholesale Trade\", \"Occupation\": \"All\", \"Average Salary\": 59110}, {\"Industry\": \"Retail Trade\", \"Occupation\": \"All\", \"Average Salary\": 34870}, {\"Industry\": \"Transportation and Warehousing\", \"Occupation\": \"All\", \"Average Salary\": 49850}, {\"Industry\": \"Information\", \"Occupation\": \"All\", \"Average Salary\": 80050}, {\"Industry\": \"Finance and Insurance\", \"Occupation\": \"All\", \"Average Salary\": 75280}, {\"Industry\": \"Real Estate and Rental and Leasing\", \"Occupation\": \"All\", \"Average Salary\": 51190}, {\"Industry\": \"Professional, Scientific, and Technical Services\", \"Occupation\": \"All\", \"Average Salary\": 85720}, {\"Industry\": \"Management of Companies and Enterprises\", \"Occupation\": \"All\", \"Average Salary\": 87280}, {\"Industry\": \"Administrative and Support and Waste Management and Remediation Services\", \"Occupation\": \"All\", \"Average Salary\": 42010}, {\"Industry\": \"Educational Services\", \"Occupation\": \"All\", \"Average Salary\": 58080}, {\"Industry\": \"Health Care and Social Assistance\", \"Occupation\": \"All\", \"Average Salary\": 55300}, {\"Industry\": \"Arts, Entertainment, and Recreation\", \"Occupation\": \"All\", \"Average Salary\": 39300}, {\"Industry\": \"Accommodation and Food Services\", \"Occupation\": \"All\", \"Average Salary\": 27980}, {\"Industry\": \"Other Services (except Federal, State, and Local Government)\", \"Occupation\": \"All\", \"Average Salary\": 44220}, {\"Industry\": \"Federal, State, and Local Government\", \"Occupation\": \"All\", \"Average Salary\": 62720}]}}, {\"mode\": \"vega-lite\"});\n",
       "</script>"
      ],
      "text/plain": [
       "alt.Chart(...)"
      ]
     },
     "execution_count": 55,
     "metadata": {},
     "output_type": "execute_result"
    }
   ],
   "source": [
    "#hide-input\n",
    "horizontal_stripplot = alt.Chart(melted).mark_circle(size = 100).encode(\n",
    "    x=alt.X('Average Salary:Q', axis=alt.Axis(title='Average Annual Salary'), scale=alt.Scale(zero=False)),\n",
    "    y=alt.Y('Occupation:N', axis=alt.Axis(title=None)),\n",
    "    color=alt.Color('Industry:N', legend=None, ),\n",
    "    tooltip=[alt.Tooltip('Industry:N'), alt.Tooltip('Average Salary:Q')]\n",
    ").configure_view(\n",
    "    stroke=None\n",
    ").configure_axis(\n",
    "    labelFontSize=16,\n",
    "    titleFontSize=16\n",
    ").configure_view(continuousHeight=600, continuousWidth=400)\n",
    "\n",
    "horizontal_stripplot"
   ]
  },
  {
   "cell_type": "markdown",
   "metadata": {},
   "source": [
    "This is not limited to private industry - tech salaries are consistently higher across all industries!  \n",
    "\n",
    "Developing a tech solution usually requires more than one technologist! If you want to build even a simple app, you need someone to develop it and someone to check the work!"
   ]
  },
  {
   "cell_type": "markdown",
   "metadata": {},
   "source": [
    "## OOTB Solutions\n",
    "\n",
    "In the example, every state had a program funded by one of our grants and 22 states had a program funded by the other grant. Because the data we were required to report to the CDC (visit level medical information for each participant) was discrete and consistent, a third party company had actually created an Out-of-the-Box SaaS app for data collection.  \n",
    "\n",
    "This solution was not free, unfortunately. \n",
    "\n",
    "In the first year, we had to pay $150,000 to have the solution set up.  This included data migration from our historical systems to the new system and licensing fees for each program.\n",
    "\n",
    "After the initial setup, we had to pay $25,000 for licensing and hosting.  We also had to create a slush fund ($20,000) for ad-hoc development fees.  \n",
    "\n",
    "That means that the app would cost us $330,000 over 5 years! If all of the grant money is accounted for, how will the program drum up an extra $330,000? \n",
    "\n",
    "### Customization\n",
    "\n",
    "Even though this solution was was built _specifically_ for our grants, the third party provider **still** recommended that we earmark $20,000 per year for customization. If you are a program that offers both direct services and general services, who collects data both at the time of service and may need to enter data at a later time, if you need to be able to control access to data at system, form, and program levels; you will have a lot of customization work.  \n",
    "\n",
    "In this scenario, an OOTB solution may incur more costs than hiring internally. For example, a non-profit looking to use Salesforce but needing specific data fields may incur a lot of customization-related costs just to ensure they are meeting grant requirements!"
   ]
  },
  {
   "cell_type": "markdown",
   "metadata": {},
   "source": [
    "# How Tech Helps\n",
    "\n",
    "Why should you care about this?  Working in tech isn't perfect, but it's a stable form of employment that pays very well, is in high demand, and allows a lot of us introverts to just solve problems all day!  It's a great gig.\n",
    "\n",
    "In the interest of keeping this brief, here are three arguments for increasing non-profit and government access to up-to-date technologies.\n",
    "\n",
    "## Better Data\n",
    "We are recognizing the economic divide in the data created by modern tech.  Tech solutions are built to make _money_. There's no money to be made from populations with lower socioeconomic status.  This means the user data for those solutions does not represent an entire swath of the population!  If you want to build predictive tooling for an entire population, you need equal amounts of data to **represent the entire population**.\n",
    "\n",
    "## Better Services\n",
    "If a non-profit is spending 4 hours every week cleaning and preparing data for direct service claims when they can spend 5 minutes making that extract in a BI tool, imagine what they would then do with the extra 203 hours each year.  Non-profits that offer individual services but use tools like Excel cannot easily see a participant's journey within a program, nonetheless within the organization. Better tech means better service.\n",
    "\n",
    "Non-profits can operate with a similar budget!  By automating simple processes, they have more capacity to do the work that makes their jobs rewarding!\n",
    "\n",
    "## Better Knowledge\n",
    "Giving programs access to better data collection tools means we will have access to more complete data on issues we are working to resolve (with limited data!).  By encouraging more standardized data collection, we are building capacity for a more complete picture!\n"
   ]
  },
  {
   "cell_type": "markdown",
   "metadata": {},
   "source": [
    "# Contribute to Civic Tech\n",
    "\n",
    "So what can you do?  \n",
    "\n",
    "**As a citizen**\n",
    "You may have a local [Code for America brigade](https://brigade.codeforamerica.org/)! Reach out to them.  If you don't, start one! \n",
    "\n",
    "If you're not a technologist, managing a project is absolutely a huge need for these brigades! \n",
    "\n",
    "**As a non-profit**\n",
    "See above :) \n",
    "\n",
    "**As a tech company**\n",
    "Encourage developers to work on these projects!  Local companies can donate actual developer time to work on projects - these projects don't happen overnight. Increasing volunteer capacity is just as valuable (and, honestly, more valuable) than a financial donation.  \n",
    "\n",
    "Also, you can do pro bono work yourself!  Are there any non-profits that can benefit from your product?  Can you help them set it up and then offer them access to it for very cheap or free?\n",
    "\n",
    "**As a decision maker**\n",
    "MAKE TECH-SPECIFIC GRANT FUNDING.  STOP SILOING WORK FOR STATE AND CITY LEVEL PROJECTS."
   ]
  },
  {
   "cell_type": "code",
   "execution_count": null,
   "metadata": {},
   "outputs": [],
   "source": []
  }
 ],
 "metadata": {
  "kernelspec": {
   "display_name": "website",
   "language": "python",
   "name": "website"
  },
  "language_info": {
   "codemirror_mode": {
    "name": "ipython",
    "version": 3
   },
   "file_extension": ".py",
   "mimetype": "text/x-python",
   "name": "python",
   "nbconvert_exporter": "python",
   "pygments_lexer": "ipython3",
   "version": "3.7.4"
  }
 },
 "nbformat": 4,
 "nbformat_minor": 4
}
